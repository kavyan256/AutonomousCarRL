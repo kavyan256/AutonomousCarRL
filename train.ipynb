{
 "cells": [
  {
   "cell_type": "markdown",
   "id": "9fd647f5",
   "metadata": {},
   "source": [
    "# CARLA Simulation Training\n",
    "\n",
    "This notebook demonstrates how to connect to and interact with the CARLA simulator."
   ]
  },
  {
   "cell_type": "code",
   "execution_count": null,
   "id": "ccc968eb",
   "metadata": {},
   "outputs": [],
   "source": [
    "import carla_env\n",
    "import time\n",
    "import importlib\n",
    "importlib.reload(carla_env)\n",
    "from carla_env import CarlaEnv"
   ]
  },
  {
   "cell_type": "code",
   "execution_count": null,
   "id": "32822cd8",
   "metadata": {},
   "outputs": [],
   "source": [
    "\n",
    "env = CarlaEnv()\n",
    "print(\"Successfully connected to CARLA simulator!\")"
   ]
  },
  {
   "cell_type": "code",
   "execution_count": null,
   "id": "4e8057b9",
   "metadata": {},
   "outputs": [],
   "source": [
    "# Get all spawn points\n",
    "spawn_points = env.world.get_map().get_spawn_points()\n",
    "print(f\"Found {len(spawn_points)} spawn points\")\n",
    "\n",
    "# Get Tesla Model 3 blueprint\n",
    "vehicle_bp = env.world.get_blueprint_library().find('vehicle.tesla.model3')\n",
    "\n",
    "# Check if blueprint was found\n",
    "if vehicle_bp is not None and len(spawn_points) > 0:\n",
    "    start_point = spawn_points[1]  # or 0 or random.choice(spawn_points)\n",
    "    vehicle = env.world.try_spawn_actor(vehicle_bp, start_point)\n",
    "\n",
    "    if vehicle is not None:\n",
    "        print(\"✅ Vehicle spawned successfully!\")\n",
    "        print(f\"Vehicle ID: {vehicle.id}\")\n",
    "\n",
    "        # Update environment with the vehicle\n",
    "        env.vehicle = vehicle\n",
    "\n",
    "        # Get vehicle transform\n",
    "        vehicle_pos = vehicle.get_transform()\n",
    "        print(f\"Vehicle position: {vehicle_pos}\")\n",
    "    else:\n",
    "        print(\"❌ Failed to spawn vehicle — spawn point might be occupied\")\n",
    "else:\n",
    "    print(\"❌ Vehicle blueprint not found or no spawn points available\")\n"
   ]
  },
  {
   "cell_type": "code",
   "execution_count": null,
   "id": "71ad80a5",
   "metadata": {},
   "outputs": [],
   "source": [
    "# Create a camera that follows the vehicle from behind and above\n",
    "camera = env.setup_camera(\n",
    "    camera_type='rgb',\n",
    "    width=1920,\n",
    "    height=1080,\n",
    "    fov=110,\n",
    "    x_offset=-8.0,  # 8 meters behind the vehicle\n",
    "    z_offset=3.0,   # 3 meters above the vehicle\n",
    "    pitch=-20.0     # Looking down at 20 degrees\n",
    ")\n",
    "\n",
    "if camera is not None:\n",
    "    print(\"Camera is now following the vehicle!\")\n",
    "else:\n",
    "    print(\"Failed to setup camera\")"
   ]
  },
  {
   "cell_type": "code",
   "execution_count": null,
   "id": "59aeae17",
   "metadata": {},
   "outputs": [],
   "source": [
    "# Switch the CARLA window view to camera perspective\n",
    "if env.camera is not None:\n",
    "    env.switch_to_camera_view()\n",
    "else:\n",
    "    print(\"No camera available for view switching\")"
   ]
  },
  {
   "cell_type": "code",
   "execution_count": null,
   "id": "279463fa",
   "metadata": {},
   "outputs": [],
   "source": [
    "camera = env.setup_camera(\n",
    "    camera_type='rgb',\n",
    "    width=640,\n",
    "    height=360,\n",
    "    fov=90,\n",
    "    x_offset=1.5,\n",
    "    z_offset=2.4,\n",
    "    pitch=0.0\n",
    ")\n",
    "\n",
    "env.listen_to_camera()"
   ]
  },
  {
   "cell_type": "code",
   "execution_count": null,
   "id": "ea8c1611",
   "metadata": {},
   "outputs": [],
   "source": [
    "# Reload the module to get the updated code\n",
    "import importlib\n",
    "importlib.reload(carla_env)\n",
    "from carla_env import CarlaEnv\n",
    "\n",
    "print(\"Module reloaded successfully!\")"
   ]
  },
  {
   "cell_type": "code",
   "execution_count": null,
   "id": "a027bb12",
   "metadata": {},
   "outputs": [],
   "source": [
    "# Control the spawned vehicle (camera will follow automatically)\n",
    "if env.vehicle is not None:\n",
    "    print(\"Controlling the vehicle...\")\n",
    "    action = [0.3, 0.0, 0.0]\n",
    "    env.step(action)\n",
    "else:\n",
    "    print(\"No vehicle available to control\")"
   ]
  },
  {
   "cell_type": "code",
   "execution_count": null,
   "id": "4b8a1bcf",
   "metadata": {},
   "outputs": [],
   "source": [
    "env.stop_camera_listening()"
   ]
  },
  {
   "cell_type": "code",
   "execution_count": null,
   "id": "fe15cb0a",
   "metadata": {},
   "outputs": [],
   "source": [
    "print(\"Calling env.reset()...\")\n",
    "result = env.reset()\n",
    "#print(f\"Reset completed! Returned: {result}\")\n",
    "print(\"All existing vehicles and cameras have been destroyed\")"
   ]
  }
 ],
 "metadata": {
  "kernelspec": {
   "display_name": "carla-env",
   "language": "python",
   "name": "python3"
  },
  "language_info": {
   "codemirror_mode": {
    "name": "ipython",
    "version": 3
   },
   "file_extension": ".py",
   "mimetype": "text/x-python",
   "name": "python",
   "nbconvert_exporter": "python",
   "pygments_lexer": "ipython3",
   "version": "3.8.20"
  }
 },
 "nbformat": 4,
 "nbformat_minor": 5
}
